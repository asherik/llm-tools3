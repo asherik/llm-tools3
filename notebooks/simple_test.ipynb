{
 "cells": [
  {
   "cell_type": "code",
   "execution_count": 17,
   "outputs": [],
   "source": [
    "from llm_tools.llm_streaming import StreamingOpenAIChatModel\n",
    "from llm_tools.llm_fallback import StreamingModelWithFallback"
   ],
   "metadata": {
    "collapsed": false,
    "ExecuteTime": {
     "end_time": "2024-11-21T09:20:48.312694100Z",
     "start_time": "2024-11-21T09:20:48.308677200Z"
    }
   }
  },
  {
   "cell_type": "code",
   "execution_count": 18,
   "outputs": [],
   "source": [
    "from langchain.schema import HumanMessage, AIMessage"
   ],
   "metadata": {
    "collapsed": false,
    "ExecuteTime": {
     "end_time": "2024-11-21T09:20:48.349908Z",
     "start_time": "2024-11-21T09:20:48.312694100Z"
    }
   }
  },
  {
   "cell_type": "code",
   "execution_count": 19,
   "outputs": [],
   "source": [
    "from pydoc import locate"
   ],
   "metadata": {
    "collapsed": false,
    "ExecuteTime": {
     "end_time": "2024-11-21T09:20:48.349908Z",
     "start_time": "2024-11-21T09:20:48.324614600Z"
    }
   }
  },
  {
   "cell_type": "code",
   "execution_count": 20,
   "outputs": [],
   "source": [
    "from concurrent.futures import ProcessPoolExecutor"
   ],
   "metadata": {
    "collapsed": false,
    "ExecuteTime": {
     "end_time": "2024-11-21T09:20:48.349908Z",
     "start_time": "2024-11-21T09:20:48.328430500Z"
    }
   }
  },
  {
   "cell_type": "code",
   "execution_count": 21,
   "outputs": [],
   "source": [
    "from concurrent.futures import ProcessPoolExecutor\n",
    "from langchain_openai import ChatOpenAI\n",
    "import tenacity\n",
    "# Запрашиваем API ключ у пользователя\n",
    "api_key = input(\"Please enter your OpenAI API key: \")\n",
    "\n",
    "streaming_kwargs = {\n",
    "    'max_initial_request_retries': 3,\n",
    "    'request_timeout': tenacity.wait.wait_exponential(multiplier=1, min=1, max=60),\n",
    "    'max_streaming_retries': 2,\n",
    "    'streaming_next_token_timeout': 10.0,\n",
    "    'wait_between_retries': tenacity.wait.wait_exponential(multiplier=1, min=1, max=60),\n",
    "}\n",
    "\n",
    "\n",
    "kwargs = {\n",
    "    'openai_api_key': api_key,  # Используем введенный ключ\n",
    "    'model_name': 'gpt-4o-mini',\n",
    "    'streaming': True,\n",
    "    'temperature': 0.7,\n",
    "}\n",
    "\n",
    "model = ChatOpenAI(**kwargs)\n",
    "executor = ProcessPoolExecutor(max_workers=1)\n",
    "model = StreamingOpenAIChatModel(model, token_count_executor=executor, **streaming_kwargs)\n"
   ],
   "metadata": {
    "collapsed": false,
    "ExecuteTime": {
     "end_time": "2024-11-21T09:20:55.860328300Z",
     "start_time": "2024-11-21T09:20:48.336352500Z"
    }
   }
  },
  {
   "cell_type": "code",
   "execution_count": 22,
   "outputs": [
    {
     "name": "stdout",
     "output_type": "stream",
     "text": [
      "Once upon a time in a small town, there lived a boy named Alex who had a great passion for football. From a young age, he would spend hours after school practicing dribbling in his backyard, imagining himself scoring the winning goal in a championship match. His parents noticed his dedication and enrolled him in a local football team.\n",
      "\n",
      "As he grew older, Alex faced various challenges. He wasn’t the tallest or the fastest player on the team, and there were times when he felt discouraged. However, he had an unwavering determination to improve. Every day after school, he would practice tirelessly, honing his skills and studying the game. His hard work began to pay off when he made the starting lineup for his high school team.\n",
      "\n",
      "In his junior year, Alex and his team reached the state championships. The atmosphere was electric, and the stands were filled with cheering fans. The game was intense, and Alex felt the pressure mounting. In the final minutes of the match, with the score tied, he received a pass from a teammate. Time seemed to slow down as he dribbled toward the goal. With a swift move, he took a shot, and the ball soared into the net. The crowd erupted in cheers, and his team celebrated their victory.\n",
      "\n",
      "That moment changed everything for Alex. Scouts from colleges began to take notice of his talent. After much consideration, he accepted a scholarship to play football at a prestigious university. The college experience was filled with both triumphs and setbacks. Injuries tested his resolve, and balancing academics with athletics was challenging.\n",
      "\n",
      "However, Alex persevered. He learned valuable lessons about teamwork, leadership, and resilience. By his senior year, he was named team captain, leading his team to victory in the national championship. After graduation, he was drafted into a professional league, achieving his lifelong dream of being a professional football player.\n",
      "Through it all, Alex remained grateful for the journey. He knew that every challenge had shaped him into the player and person he had become. With a commitment to giving back, he started a foundation to help underprivileged children access sports programs, ensuring that they, too, could chase their dreams on the field.\n",
      "\n",
      "And so, Alex's story continued, filled with passion, perseverance, and the joy of football."
     ]
    }
   ],
   "source": [
    "async for text, token in model.stream_llm_reply([\n",
    "    AIMessage(content=\"You are a football player\"),\n",
    "    HumanMessage(content=\"Hi! Tell me a story of your life\"),\n",
    "]):\n",
    "    print(token, end=\"\")"
   ],
   "metadata": {
    "collapsed": false,
    "ExecuteTime": {
     "end_time": "2024-11-21T09:21:05.649954700Z",
     "start_time": "2024-11-21T09:20:55.860328300Z"
    }
   }
  }
 ],
 "metadata": {
  "kernelspec": {
   "display_name": "Python 3",
   "language": "python",
   "name": "python3"
  },
  "language_info": {
   "name": "python",
   "version": "3.8"
  }
 },
 "nbformat": 4,
 "nbformat_minor": 4
}
