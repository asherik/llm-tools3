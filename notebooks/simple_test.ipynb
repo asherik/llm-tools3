{
 "cells": [
  {
   "cell_type": "code",
   "execution_count": 5,
   "outputs": [],
   "source": [
    "from llm_tools.llm_streaming import StreamingOpenAIChatModel\n",
    "from llm_tools.llm_fallback import StreamingModelWithFallback"
   ],
   "metadata": {
    "collapsed": false,
    "ExecuteTime": {
     "end_time": "2024-11-21T08:35:44.484391900Z",
     "start_time": "2024-11-21T08:35:44.198982100Z"
    }
   }
  },
  {
   "cell_type": "code",
   "execution_count": 6,
   "outputs": [],
   "source": [
    "from langchain.schema import HumanMessage, AIMessage"
   ],
   "metadata": {
    "collapsed": false,
    "ExecuteTime": {
     "end_time": "2024-11-21T08:35:44.495771200Z",
     "start_time": "2024-11-21T08:35:44.487724800Z"
    }
   }
  },
  {
   "cell_type": "code",
   "execution_count": 7,
   "outputs": [],
   "source": [
    "from pydoc import locate"
   ],
   "metadata": {
    "collapsed": false,
    "ExecuteTime": {
     "end_time": "2024-11-21T08:35:44.503086100Z",
     "start_time": "2024-11-21T08:35:44.497393700Z"
    }
   }
  },
  {
   "cell_type": "code",
   "execution_count": 8,
   "outputs": [],
   "source": [
    "from concurrent.futures import ProcessPoolExecutor"
   ],
   "metadata": {
    "collapsed": false,
    "ExecuteTime": {
     "end_time": "2024-11-21T08:35:44.526375300Z",
     "start_time": "2024-11-21T08:35:44.503086100Z"
    }
   }
  },
  {
   "cell_type": "code",
   "execution_count": 9,
   "outputs": [],
   "source": [
    "from concurrent.futures import ProcessPoolExecutor\n",
    "from langchain_openai import ChatOpenAI\n",
    "import tenacity\n",
    "# Запрашиваем API ключ у пользователя\n",
    "api_key = input(\"Please enter your OpenAI API key: \")\n",
    "\n",
    "streaming_kwargs = {\n",
    "    'max_initial_request_retries': 3,\n",
    "    'request_timeout': tenacity.wait.wait_exponential(multiplier=1, min=1, max=60),\n",
    "    'max_streaming_retries': 2,\n",
    "    'streaming_next_token_timeout': 10.0,\n",
    "    'wait_between_retries': tenacity.wait.wait_exponential(multiplier=1, min=1, max=60),\n",
    "}\n",
    "\n",
    "\n",
    "kwargs = {\n",
    "    'openai_api_key': api_key,  # Используем введенный ключ\n",
    "    'model_name': 'gpt-4o-mini',\n",
    "    'streaming': True,\n",
    "    'temperature': 0.7,\n",
    "}\n",
    "\n",
    "model = ChatOpenAI(**kwargs)\n",
    "executor = ProcessPoolExecutor(max_workers=1)\n",
    "model = StreamingOpenAIChatModel(model, token_count_executor=executor, **streaming_kwargs)\n"
   ],
   "metadata": {
    "collapsed": false,
    "ExecuteTime": {
     "end_time": "2024-11-21T08:35:50.204095400Z",
     "start_time": "2024-11-21T08:35:44.513772800Z"
    }
   }
  },
  {
   "cell_type": "code",
   "execution_count": null,
   "outputs": [
    {
     "name": "stdout",
     "output_type": "stream",
     "text": [
      "Once upon a time, in a small town, there lived a boy named Alex who dreamed of becoming a professional football player. From a young age, he was captivated by the beautiful game. Every day after school, he would rush to the local park, where a group of kids gathered to play. They would spend hours kicking the ball around, practicing their skills, and dreaming of one day playing on a big stage.\n",
      "\n",
      "Alex's passion for football was evident. He spent countless nights watching his favorite teams on television, studying their moves and tactics. He admired players like Lionel Messi and Cristiano Ronaldo, trying to emulate their techniques in his own games. His parents noticed his dedication and encouraged him to join a local youth team.\n",
      "\n",
      "As Alex grew older, he faced challenges. He struggled with self-doubt and the pressure to perform well. There were days when he felt like giving up, especially after a tough loss or a disappointing game. However, his love for the sport always pulled him back in. He learned the importance of perseverance, training harder, and staying focused on his goals.\n",
      "\n",
      "During his teenage years, Alex's skills began to shine. He caught the attention of scouts during local tournaments and was offered a spot on a competitive club team. This was his chance to prove himself. With hard work and determination, he trained relentlessly, pushing through injuries and fatigue.\n",
      "\n",
      "As he climbed the ranks, he faced new challenges—balancing school, training, and the expectations of coaches and teammates. But with each step, he grew stronger both as a player"
     ]
    }
   ],
   "source": [
    "async for text, token in model.stream_llm_reply([\n",
    "    AIMessage(content=\"You are a football player\"),\n",
    "    HumanMessage(content=\"Hi! Tell me a story of your life\"),\n",
    "]):\n",
    "    print(token, end=\"\")"
   ],
   "metadata": {
    "collapsed": false,
    "is_executing": true,
    "ExecuteTime": {
     "start_time": "2024-11-21T08:35:50.204095400Z"
    }
   }
  }
 ],
 "metadata": {
  "kernelspec": {
   "display_name": "Python 3",
   "language": "python",
   "name": "python3"
  },
  "language_info": {
   "name": "python",
   "version": "3.8"
  }
 },
 "nbformat": 4,
 "nbformat_minor": 4
}
