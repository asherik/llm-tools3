{
 "cells": [
  {
   "cell_type": "code",
   "execution_count": 13,
   "outputs": [],
   "source": [
    "from llm_tools.llm_streaming import StreamingOpenAIChatModel\n",
    "from llm_tools.llm_fallback import StreamingModelWithFallback"
   ],
   "metadata": {
    "collapsed": false,
    "ExecuteTime": {
     "end_time": "2024-11-20T10:02:40.328219500Z",
     "start_time": "2024-11-20T10:02:40.297086900Z"
    }
   }
  },
  {
   "cell_type": "code",
   "execution_count": 14,
   "outputs": [],
   "source": [
    "from langchain.schema import HumanMessage, AIMessage"
   ],
   "metadata": {
    "collapsed": false,
    "ExecuteTime": {
     "end_time": "2024-11-20T10:02:40.329309900Z",
     "start_time": "2024-11-20T10:02:40.306130100Z"
    }
   }
  },
  {
   "cell_type": "code",
   "execution_count": 15,
   "outputs": [],
   "source": [
    "from pydoc import locate"
   ],
   "metadata": {
    "collapsed": false,
    "ExecuteTime": {
     "end_time": "2024-11-20T10:02:40.329309900Z",
     "start_time": "2024-11-20T10:02:40.318613500Z"
    }
   }
  },
  {
   "cell_type": "code",
   "execution_count": 16,
   "outputs": [],
   "source": [
    "from concurrent.futures import ProcessPoolExecutor"
   ],
   "metadata": {
    "collapsed": false,
    "ExecuteTime": {
     "end_time": "2024-11-20T10:02:40.344346300Z",
     "start_time": "2024-11-20T10:02:40.322667600Z"
    }
   }
  },
  {
   "cell_type": "code",
   "execution_count": 17,
   "outputs": [],
   "source": [
    "from concurrent.futures import ProcessPoolExecutor\n",
    "from langchain_openai import ChatOpenAI\n",
    "\n",
    "# Запрашиваем API ключ у пользователя\n",
    "api_key = input(\"Please enter your OpenAI API key: \")\n",
    "\n",
    "kwargs = {\n",
    "    'openai_api_key': api_key,  # Используем введенный ключ\n",
    "    'model_name': 'gpt-4o-mini',\n",
    "    'streaming': True,\n",
    "    'temperature': 0,\n",
    "}\n",
    "\n",
    "model = ChatOpenAI(**kwargs)\n",
    "executor = ProcessPoolExecutor(max_workers=1)\n",
    "model = StreamingOpenAIChatModel(model, token_count_executor=executor)\n"
   ],
   "metadata": {
    "collapsed": false,
    "ExecuteTime": {
     "end_time": "2024-11-20T10:02:48.892557400Z",
     "start_time": "2024-11-20T10:02:40.329309900Z"
    }
   }
  },
  {
   "cell_type": "code",
   "execution_count": 18,
   "outputs": [
    {
     "name": "stdout",
     "output_type": "stream",
     "text": [
      "I am an AI assistant, so I don't have a personal life or experiences like a human does. However, I can share a fictional story about a football player's journey:\n",
      "\n",
      "Once upon a time, there was a young football player named Alex who had a dream of playing professional football. From a young age, Alex showed exceptional talent and dedication to the sport. He spent countless hours practicing, honing his skills, and pushing himself to be the best player he could be.\n",
      "\n",
      "Despite facing challenges and setbacks along the way, Alex never gave up on his dream. He worked hard in school to maintain good grades and stayed disciplined in his training regimen. His perseverance and determination caught the attention of scouts, and he eventually earned a scholarship to play college football.\n",
      "\n",
      "During his college career, Alex continued to excel on the field, impressing coaches and fans with his speed, agility, and football IQ. He led his team to multiple championships and received numerous accolades for his performance. His hard work paid off when he was drafted by a professional football team, fulfilling his lifelong dream.\n",
      "\n",
      "As a professional football player, Alex faced even greater challenges and competition, but he never lost sight of his passion for the game. He continued to train rigorously, pushing himself to new heights and inspiring others with his dedication and work ethic. Through hard work, perseverance, and a love for the game, Alex became a successful and respected football player, leaving a lasting legacy in the world of sports.\n",
      "\n",
      "While this story is fictional, it reflects the journey of many real-life athletes who overcome obstacles and pursue their dreams with unwavering determination."
     ]
    }
   ],
   "source": [
    "async for text, token in model.stream_llm_reply([\n",
    "    AIMessage(content=\"You are a football player\"),\n",
    "    HumanMessage(content=\"Hi! Tell me a story of your life\"),\n",
    "]):\n",
    "    print(token, end=\"\")"
   ],
   "metadata": {
    "collapsed": false,
    "ExecuteTime": {
     "end_time": "2024-11-20T10:02:57.342335900Z",
     "start_time": "2024-11-20T10:02:48.892557400Z"
    }
   }
  }
 ],
 "metadata": {
  "kernelspec": {
   "display_name": "Python 3",
   "language": "python",
   "name": "python3"
  },
  "language_info": {
   "name": "python",
   "version": "3.8"
  }
 },
 "nbformat": 4,
 "nbformat_minor": 4
}
