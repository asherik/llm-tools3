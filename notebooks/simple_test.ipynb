{
 "cells": [
  {
   "cell_type": "code",
   "execution_count": 1,
   "outputs": [],
   "source": [
    "from llm_tools.llm_streaming import StreamingOpenAIChatModel\n",
    "from llm_tools.llm_fallback import StreamingModelWithFallback"
   ],
   "metadata": {
    "collapsed": false,
    "ExecuteTime": {
     "end_time": "2024-11-21T07:49:26.633772300Z",
     "start_time": "2024-11-21T07:49:15.346157600Z"
    }
   }
  },
  {
   "cell_type": "code",
   "execution_count": 2,
   "outputs": [],
   "source": [
    "from langchain.schema import HumanMessage, AIMessage"
   ],
   "metadata": {
    "collapsed": false,
    "ExecuteTime": {
     "end_time": "2024-11-21T07:49:26.650235400Z",
     "start_time": "2024-11-21T07:49:26.633772300Z"
    }
   }
  },
  {
   "cell_type": "code",
   "execution_count": 3,
   "outputs": [],
   "source": [
    "from pydoc import locate"
   ],
   "metadata": {
    "collapsed": false,
    "ExecuteTime": {
     "end_time": "2024-11-21T07:49:26.650235400Z",
     "start_time": "2024-11-21T07:49:26.638365Z"
    }
   }
  },
  {
   "cell_type": "code",
   "execution_count": 4,
   "outputs": [],
   "source": [
    "from concurrent.futures import ProcessPoolExecutor"
   ],
   "metadata": {
    "collapsed": false,
    "ExecuteTime": {
     "end_time": "2024-11-21T07:49:26.694185500Z",
     "start_time": "2024-11-21T07:49:26.650235400Z"
    }
   }
  },
  {
   "cell_type": "code",
   "execution_count": 5,
   "outputs": [],
   "source": [
    "from concurrent.futures import ProcessPoolExecutor\n",
    "from langchain_openai import ChatOpenAI\n",
    "import tenacity\n",
    "# Запрашиваем API ключ у пользователя\n",
    "api_key = input(\"Please enter your OpenAI API key: \")\n",
    "\n",
    "streaming_kwargs = {\n",
    "    'max_initial_request_retries': 3,\n",
    "    'request_timeout': tenacity.wait.wait_exponential(multiplier=1, min=1, max=60),\n",
    "    'max_streaming_retries': 2,\n",
    "    'streaming_next_token_timeout': 10.0,\n",
    "    'wait_between_retries': tenacity.wait.wait_exponential(multiplier=1, min=1, max=60),\n",
    "}\n",
    "\n",
    "\n",
    "kwargs = {\n",
    "    'openai_api_key': api_key,  # Используем введенный ключ\n",
    "    'model_name': 'gpt-4o-mini',\n",
    "    'streaming': True,\n",
    "    'temperature': 0.7,\n",
    "}\n",
    "\n",
    "model = ChatOpenAI(**kwargs)\n",
    "executor = ProcessPoolExecutor(max_workers=1)\n",
    "model = StreamingOpenAIChatModel(model, token_count_executor=executor, **streaming_kwargs)\n"
   ],
   "metadata": {
    "collapsed": false,
    "ExecuteTime": {
     "end_time": "2024-11-21T07:49:32.520757900Z",
     "start_time": "2024-11-21T07:49:26.671097700Z"
    }
   }
  },
  {
   "cell_type": "code",
   "execution_count": 6,
   "outputs": [
    {
     "name": "stdout",
     "output_type": "stream",
     "text": [
      "Once upon a time, in a small town, there lived a young boy named Alex who dreamed of becoming a professional football player. From the moment he could walk, he had a ball at his feet. His days were spent playing in the streets with friends, practicing dribbles and shots until the sun set.\n",
      "\n",
      "As he grew older, Alex faced many challenges. His family didn’t have much money, but his parents always encouraged him to chase his dreams. They took him to local games, and he idolized the players who showcased their skills on the field. Inspired by their talent, he joined a local youth team, where he quickly became known for his speed and determination.\n",
      "\n",
      "Despite his talent, the road to success was not easy. There were times when he faced injuries that sidelined him for months, and moments of self-doubt crept in. However, with the support of his friends and family, he persevered. He spent countless hours training, honing his skills, and studying the game.\n",
      "\n",
      "In high school, Alex caught the attention of a scout from a professional academy. After a rigorous selection process, he was offered a spot in the academy’s program. It was a dream come true, but it also meant moving away from home and facing tougher competition. With a heavy heart, he said goodbye to his family and embarked on this new chapter.\n",
      "\n",
      "At the academy, Alex trained harder than ever. He learned about teamwork, discipline, and the importance of mental strength. With each passing year, he improved and began to make a name for himself. Finally, after years of dedication and hard work, he was offered a contract with a professional club.\n",
      "\n",
      "The day he stepped onto the pitch as a professional player was surreal. The roar of the crowd, the bright lights, and the weight of the jersey on his back filled him with pride and excitement. He played with passion, representing not just himself but also his family and community.\n",
      "\n",
      "As Alex's career progressed, he faced new challenges, including injuries and fierce competition. Yet, he always remembered his roots and the sacrifices made by those who believed in him. He became a role model for young players in his hometown, often returning to share his journey and inspire others to follow their dreams.\n",
      "\n",
      "In the end, Alex’s story was not just about football; it was about resilience, determination, and the power of believing in oneself. He proved that with hard work and heart, dreams could indeed come true. And as he looked back on his journey, he knew that every challenge had shaped him into the player and person he had become."
     ]
    }
   ],
   "source": [
    "async for text, token in model.stream_llm_reply([\n",
    "    AIMessage(content=\"You are a football player\"),\n",
    "    HumanMessage(content=\"Hi! Tell me a story of your life\"),\n",
    "]):\n",
    "    print(token, end=\"\")"
   ],
   "metadata": {
    "collapsed": false,
    "ExecuteTime": {
     "end_time": "2024-11-21T07:49:44.611057900Z",
     "start_time": "2024-11-21T07:49:32.520757900Z"
    }
   }
  }
 ],
 "metadata": {
  "kernelspec": {
   "display_name": "Python 3",
   "language": "python",
   "name": "python3"
  },
  "language_info": {
   "name": "python",
   "version": "3.8"
  }
 },
 "nbformat": 4,
 "nbformat_minor": 4
}
