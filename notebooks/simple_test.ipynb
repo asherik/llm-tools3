{
 "cells": [
  {
   "cell_type": "code",
   "execution_count": 1,
   "outputs": [],
   "source": [
    "from llm_tools.llm_streaming import StreamingOpenAIChatModel\n",
    "from llm_tools.llm_fallback import StreamingModelWithFallback"
   ],
   "metadata": {
    "collapsed": false,
    "ExecuteTime": {
     "end_time": "2024-11-20T10:40:41.919738Z",
     "start_time": "2024-11-20T10:40:39.653145800Z"
    }
   }
  },
  {
   "cell_type": "code",
   "execution_count": 2,
   "outputs": [],
   "source": [
    "from langchain.schema import HumanMessage, AIMessage"
   ],
   "metadata": {
    "collapsed": false,
    "ExecuteTime": {
     "end_time": "2024-11-20T10:40:41.932484200Z",
     "start_time": "2024-11-20T10:40:41.925246200Z"
    }
   }
  },
  {
   "cell_type": "code",
   "execution_count": 3,
   "outputs": [],
   "source": [
    "from pydoc import locate"
   ],
   "metadata": {
    "collapsed": false,
    "ExecuteTime": {
     "end_time": "2024-11-20T10:40:41.940626700Z",
     "start_time": "2024-11-20T10:40:41.927328Z"
    }
   }
  },
  {
   "cell_type": "code",
   "execution_count": 4,
   "outputs": [],
   "source": [
    "from concurrent.futures import ProcessPoolExecutor"
   ],
   "metadata": {
    "collapsed": false,
    "ExecuteTime": {
     "end_time": "2024-11-20T10:40:41.966999Z",
     "start_time": "2024-11-20T10:40:41.940626700Z"
    }
   }
  },
  {
   "cell_type": "code",
   "execution_count": 5,
   "outputs": [],
   "source": [
    "from concurrent.futures import ProcessPoolExecutor\n",
    "from langchain_openai import ChatOpenAI\n",
    "import tenacity\n",
    "# Запрашиваем API ключ у пользователя\n",
    "api_key = input(\"Please enter your OpenAI API key: \")\n",
    "\n",
    "streaming_kwargs = {\n",
    "    'max_initial_request_retries': 3,\n",
    "    'request_timeout': tenacity.wait.wait_exponential(multiplier=1, min=1, max=60),\n",
    "    'max_streaming_retries': 2,\n",
    "    'streaming_next_token_timeout': 10.0,\n",
    "    'wait_between_retries': tenacity.wait.wait_exponential(multiplier=1, min=1, max=60),\n",
    "}\n",
    "\n",
    "\n",
    "kwargs = {\n",
    "    'openai_api_key': api_key,  # Используем введенный ключ\n",
    "    'model_name': 'gpt-4o-mini',\n",
    "    'streaming': True,\n",
    "    'temperature': 0.7,\n",
    "}\n",
    "\n",
    "model = ChatOpenAI(**kwargs)\n",
    "executor = ProcessPoolExecutor(max_workers=1)\n",
    "model = StreamingOpenAIChatModel(model, token_count_executor=executor, **streaming_kwargs)\n"
   ],
   "metadata": {
    "collapsed": false,
    "ExecuteTime": {
     "end_time": "2024-11-20T10:40:56.903287900Z",
     "start_time": "2024-11-20T10:40:41.966999Z"
    }
   }
  },
  {
   "cell_type": "code",
   "execution_count": 6,
   "outputs": [
    {
     "name": "stdout",
     "output_type": "stream",
     "text": [
      "Once upon a time, in a small town, there lived a young boy named Alex who had a passion for football. From the moment he could walk, he was kicking a ball around the backyard, dreaming of becoming a professional player. His parents, recognizing his talent, enrolled him in a local football club where he quickly became known for his speed and agility.\n",
      "\n",
      "As he grew older, Alex faced many challenges. There were times when he struggled to balance schoolwork and training, and moments when injuries sidelined him. But with the support of his family and coaches, he persevered. He spent countless hours practicing, honing his skills, and learning the importance of teamwork and discipline.\n",
      "\n",
      "In high school, Alex's talent shone brightly. He led his team to several championships and caught the attention of college scouts. After much hard work, he received a scholarship to play for a prestigious university. There, he faced tougher competition, but he thrived, pushing himself to new heights.\n",
      "\n",
      "During his college years, Alex learned valuable lessons about resilience and determination. He faced setbacks, including a serious injury that kept him off the field for an entire season. Instead of giving up, he used that time to study the game, analyze his favorite players, and develop a deeper understanding of strategy.\n",
      "\n",
      "After graduating, Alex was drafted into a professional league. The day he stepped onto the field as a professional player was a dream come true. He played with passion and dedication, always remembering the journey that brought him there. He became a role model for young athletes, often returning to his hometown to inspire the next generation.\n",
      "\n",
      "Throughout his career, Alex faced ups and downs, but he never lost sight of his love for the game. He knew that football was more than just a sport; it was a way to connect with people, build friendships, and create unforgettable memories. As he looked back on his life, he realized that every challenge had shaped him into the player and person he had become.\n",
      "\n",
      "And so, Alex continued to play the game he loved, always striving to be better, both on and off the field, inspiring others to chase their dreams just as he had."
     ]
    }
   ],
   "source": [
    "async for text, token in model.stream_llm_reply([\n",
    "    AIMessage(content=\"You are a football player\"),\n",
    "    HumanMessage(content=\"Hi! Tell me a story of your life\"),\n",
    "]):\n",
    "    print(token, end=\"\")"
   ],
   "metadata": {
    "collapsed": false,
    "ExecuteTime": {
     "end_time": "2024-11-20T10:41:07.023259800Z",
     "start_time": "2024-11-20T10:40:56.903287900Z"
    }
   }
  }
 ],
 "metadata": {
  "kernelspec": {
   "display_name": "Python 3",
   "language": "python",
   "name": "python3"
  },
  "language_info": {
   "name": "python",
   "version": "3.8"
  }
 },
 "nbformat": 4,
 "nbformat_minor": 4
}
