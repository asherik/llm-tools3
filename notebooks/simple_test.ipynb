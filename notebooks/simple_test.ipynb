{
 "cells": [
  {
   "cell_type": "code",
   "execution_count": 7,
   "outputs": [],
   "source": [
    "from llm_tools.llm_streaming import StreamingOpenAIChatModel\n",
    "from llm_tools.llm_fallback import StreamingModelWithFallback"
   ],
   "metadata": {
    "collapsed": false,
    "ExecuteTime": {
     "end_time": "2024-11-20T09:37:41.353293900Z",
     "start_time": "2024-11-20T09:37:41.321541100Z"
    }
   }
  },
  {
   "cell_type": "code",
   "execution_count": null,
   "outputs": [],
   "source": [
    "from langchain.schema import HumanMessage, AIMessage"
   ],
   "metadata": {
    "collapsed": false
   }
  },
  {
   "cell_type": "code",
   "execution_count": null,
   "outputs": [],
   "source": [
    "from pydoc import locate"
   ],
   "metadata": {
    "collapsed": false
   }
  },
  {
   "cell_type": "code",
   "execution_count": null,
   "outputs": [],
   "source": [
    "from concurrent.futures import ProcessPoolExecutor"
   ],
   "metadata": {
    "collapsed": false
   }
  },
  {
   "cell_type": "code",
   "execution_count": null,
   "outputs": [],
   "source": [
    "from concurrent.futures import ProcessPoolExecutor\n",
    "from langchain_openai import ChatOpenAI\n",
    "\n",
    "# Запрашиваем API ключ у пользователя\n",
    "api_key = input(\"Please enter your OpenAI API key: \")\n",
    "\n",
    "kwargs = {\n",
    "    'openai_api_key': api_key,  # Используем введенный ключ\n",
    "    'model_name': 'gpt-3.5-turbo',\n",
    "    'streaming': True,\n",
    "    'temperature': 0,\n",
    "}\n",
    "\n",
    "model = ChatOpenAI(**kwargs)\n",
    "executor = ProcessPoolExecutor(max_workers=1)\n",
    "model = StreamingOpenAIChatModel(model, token_count_executor=executor)\n"
   ],
   "metadata": {
    "collapsed": false
   }
  },
  {
   "cell_type": "code",
   "execution_count": 12,
   "outputs": [
    {
     "name": "stdout",
     "output_type": "stream",
     "text": [
      "I am an AI assistant, so I don't have a personal life or experiences like a human does. However, I can share a fictional story about a football player if you'd like. Just let me know!"
     ]
    }
   ],
   "source": [
    "async for text, token in model.stream_llm_reply([\n",
    "    AIMessage(content=\"You are a football player\"),\n",
    "    HumanMessage(content=\"Hi! Tell me a story of your life\"),\n",
    "]):\n",
    "    print(token, end=\"\")"
   ],
   "metadata": {
    "collapsed": false,
    "ExecuteTime": {
     "end_time": "2024-11-20T09:37:51.985311600Z",
     "start_time": "2024-11-20T09:37:48.181570Z"
    }
   }
  }
 ],
 "metadata": {
  "kernelspec": {
   "display_name": "Python 3",
   "language": "python",
   "name": "python3"
  },
  "language_info": {
   "name": "python",
   "version": "3.8"
  }
 },
 "nbformat": 4,
 "nbformat_minor": 4
}
